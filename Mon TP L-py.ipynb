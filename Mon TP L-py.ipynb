{
 "cells": [
  {
   "cell_type": "markdown",
   "metadata": {},
   "source": [
    "# TP premiers pas L-Py\n",
    "#### (M2 BIOVIGPA)"
   ]
  },
  {
   "cell_type": "markdown",
   "metadata": {},
   "source": [
    "## Objectifs de la scéance:\n",
    "* Découvrir pas à pas le principe des l-system appliqué à la simulation des plantes\n",
    "* Découvrir le module python  L-py permettant de simuler des l-systems\n",
    "* Article original : [Boudon et al., 2012](https://www.frontiersin.org/articles/10.3389/fpls.2012.00076/full \"texte facultatif\")\n",
    "* Documentation lpy :  <http://lpy.readthedocs.io/en/latest/>\n",
    "* Documentation plantgl jupyer : <https://github.com/jvail/plantgl-jupyter>"
   ]
  },
  {
   "cell_type": "markdown",
   "metadata": {},
   "source": [
    "## Chargement des modules python nécessaires au TP:"
   ]
  },
  {
   "cell_type": "code",
   "execution_count": 1,
   "metadata": {},
   "outputs": [],
   "source": [
    "#Imports de lpy, caribu et plantgl\n",
    "from openalea.lpy import *\n",
    "#from alinea.caribu.CaribuScene import CaribuScene\n",
    "#from openalea.plantgl.all import *\n",
    "\n",
    "\n",
    "from __future__ import print_function\n",
    "from ipywidgets import interact, interactive, fixed, interact_manual\n",
    "#from openalea.mtg import MTG #librairie MTG\n",
    "from pgljupyter import LsystemWidget, SceneWidget #librairie Lsystem\n",
    "from pathlib import Path\n"
   ]
  },
  {
   "cell_type": "markdown",
   "metadata": {},
   "source": [
    "# Exercice 1"
   ]
  },
  {
   "cell_type": "markdown",
   "metadata": {},
   "source": [
    "* Objectif: Simuler la \"Dragon Curve\" avec L-py en appliquant les règles de production et d'interprétation suivantes:\n",
    "\n",
    "        . Axiome : FX\n",
    "        . X -> X +delta YF +delta\n",
    "        . Y -> -delta FX -delta Y\n",
    "        . pour un nombre d'itérations n = 10 et un angle delta = 90°\n"
   ]
  },
  {
   "cell_type": "code",
   "execution_count": null,
   "metadata": {},
   "outputs": [],
   "source": [
    "%%lpy -a True   \n",
    "\n",
    "\n",
    "def StartEach(lstring):\n",
    "    print (lstring)\n",
    "\n",
    "\n",
    "axiom: ?\n",
    "\n",
    "derivation length: ?\n",
    "\n",
    "production:\n",
    "? --> ?"
   ]
  },
  {
   "cell_type": "markdown",
   "metadata": {},
   "source": [
    "# Exercice 2"
   ]
  },
  {
   "cell_type": "markdown",
   "metadata": {},
   "source": [
    "* Objectif: Simuler un Filament d'Anabaena:\n",
    "\n",
    "    * 1) Ecrire le l-system générant la chaine Anabaena produisant la sortie suivante avec les modules 'a' et 'b'\n",
    "\n",
    "    * 2) Représenter les 'a' par des cylindres verts et les 'b' par des spheres rouges\n",
    "\n",
    "```\n",
    "Mots successifs produits par le l-system:\n",
    "b\n",
    "a\n",
    "ab\n",
    "aba\n",
    "abaab\n",
    "abaababa\n",
    "```\n",
    "\n",
    "\n",
    "\n",
    "Tips:\n",
    "* la règle de production d'un module s'écrit:\n",
    "```\n",
    "module_name --> module_name1 module_name2 [...] module_namei\n",
    "```\n",
    "* la règle d'interprétation d'un module s'écrit:\n",
    "```\n",
    "module_name --> regle_orientation(param) forme_geometrique1(param)\n",
    "```\n",
    "* Quelques exemples de formes géométriques:\n",
    "```\n",
    "F : cylindre généralisé. Params: 'length , topradius'.\n",
    "@O : sphère. Params: 'radius'.\n",
    "@o : cercle. Params: 'radius'.\n",
    "@b : rectangle. Params : 'length','topradius'.\n",
    "```\n",
    "* Quelques exemples de règles d'orientation:\n",
    "\n",
    "```\n",
    "+ : Turn left around Up vector. Params : 'angle' (optional, in degrees).\n",
    "- : Turn right around Up vector. Params : 'angle' (optional, in degrees).\n",
    "^ : Pitch up around Left vector. Params : 'angle' (optional, in degrees).\n",
    "& : Pitch down around Left vector. Params : 'angle' (optional, in degrees).\n",
    "/ : Roll left around Heading vector. Params : 'angle' (optional, in degrees).\n",
    "\\ : Roll right around Heading vector. Params : 'angle' (optional, in degrees).\n",
    "```\n",
    "* Spécification des couleurs:\n",
    "```\n",
    "SetColor : Set the current material. Params : 'index' (positive int) or 'r,g,b[,a]' or 'material'.\n",
    "```"
   ]
  },
  {
   "cell_type": "code",
   "execution_count": null,
   "metadata": {},
   "outputs": [],
   "source": [
    "%%lpy -a True   \n",
    "\n",
    "\n",
    "def StartEach(lstring):\n",
    "    print (lstring)\n",
    "\n",
    "\n",
    "module a\n",
    "module b\n",
    "\n",
    "\n",
    "axiom: ?\n",
    "\n",
    "derivation length: ?\n",
    "\n",
    "production:\n",
    "? --> ?\n",
    "\n",
    "interpretation:\n",
    "?--> ?"
   ]
  },
  {
   "cell_type": "markdown",
   "metadata": {},
   "source": [
    "# Exercice 3"
   ]
  },
  {
   "cell_type": "markdown",
   "metadata": {},
   "source": [
    "* Objectif: Simuler le développement d'une tige\n",
    "\n",
    "    * Ecrire le l-système générant le développement d'une tige dont les phytomères ne comportent que des entre-noeuds.\n",
    "    * Représenter les entre-noeuds par des cylindres verts et l'apex par une sphere rouge\n",
    "    * Utiliser la fonction StartEach() pour imprimer la chaine l-systeme à chaque pas de temps.\n",
    "        \n",
    "Tip:\n",
    "```\n",
    "Données :\n",
    "    nombre d'itérations n = 10\n",
    "```"
   ]
  },
  {
   "cell_type": "code",
   "execution_count": null,
   "metadata": {},
   "outputs": [],
   "source": [
    "%%lpy -a True   \n",
    "\n",
    "\n",
    "def StartEach(lstring):\n",
    "    print (lstring)\n",
    "\n",
    "\n",
    "module A\n",
    "module En\n",
    "\n",
    "\n",
    "axiom: ?\n",
    "\n",
    "derivation length: ?\n",
    "\n",
    "production:\n",
    "? --> ?\n",
    "\n",
    "interpretation:\n",
    "?--> ?"
   ]
  },
  {
   "cell_type": "markdown",
   "metadata": {},
   "source": [
    "# Exercice 4"
   ]
  },
  {
   "cell_type": "markdown",
   "metadata": {},
   "source": [
    "* Objectif: Ajouter des pétioles et des limbes de feuilles sur une tige rampante:\n",
    "\n",
    "    * Idem que précédemment mais la tige rampe au sol\n",
    "    * Ajout d'un pétiole vertical et d'un limbe de feuille horizontale à chaque phytomère \n",
    "    * Représenter les feuilles par des cercles et les petioles par des cylindres\n",
    "\n",
    "Tip:\n",
    "\n",
    "```\n",
    "Pourduivre sur la base de l'exericie 3.\n",
    "Données : \n",
    "    n = 10\n",
    "    Lfeuille = 0.9\n",
    "    Leptiole = 0.9\n",
    "    Len = 1\n",
    "    Dtige = 0.07\n",
    "\n",
    "```"
   ]
  },
  {
   "cell_type": "code",
   "execution_count": null,
   "metadata": {},
   "outputs": [],
   "source": [
    "%%lpy -a True   \n",
    "\n",
    "Lfeuille = 0.9\n",
    "Leptiole = 0.9\n",
    "Len = 1\n",
    "Dtige = 0.07\n",
    "\n",
    "def StartEach(lstring):\n",
    "    print (lstring)\n",
    "\n",
    "\n",
    "module A\n",
    "module En\n",
    "module Pet\n",
    "module Leaf\n",
    "\n",
    "axiom: ?\n",
    "\n",
    "derivation length: ?\n",
    "\n",
    "production:\n",
    "? --> ?\n",
    "\n",
    "interpretation:\n",
    "?--> ?"
   ]
  },
  {
   "cell_type": "markdown",
   "metadata": {},
   "source": [
    "# Exercice 5"
   ]
  },
  {
   "cell_type": "markdown",
   "metadata": {},
   "source": [
    "* Ojectif : Découpler le temps \"plante\" et le pas de temps du temps du modèle: ajout d'un calcul de temps thermique dans l'exemple précédent\n",
    "\n",
    "    * Reprendre l'exercice précédent mais le pas de temps du modèle devient le nombre de °C/jours et l'apparition d'un nouveau phytomère dépend du Phyllochrone (règle de production conditionnelle).\n",
    "           \n",
    "Tip:\n",
    "```\n",
    "Reprendre sur la base de l'exericie 4.\n",
    "Données : \n",
    "    n = 200\n",
    "    Lfeuille = 0.9\n",
    "    Leptiole = 0.9\n",
    "    Len = 1\n",
    "    Dtige = 0.07\n",
    "    Phyllochron = 20\n",
    "```"
   ]
  },
  {
   "cell_type": "code",
   "execution_count": null,
   "metadata": {},
   "outputs": [],
   "source": [
    "%%lpy -a True   \n",
    "\n",
    "Lfeuille = 0.9\n",
    "Leptiole = 0.9\n",
    "Len = 1\n",
    "Dtige = 0.07\n",
    "Phyllochron = 20\n",
    "\n",
    "def StartEach(lstring):\n",
    "    print (lstring)\n",
    "\n",
    "\n",
    "module A\n",
    "module En\n",
    "module Pet\n",
    "module Leaf\n",
    "\n",
    "axiom: ?\n",
    "\n",
    "derivation length: ?\n",
    "\n",
    "production:\n",
    "? --> ?\n",
    "\n",
    "interpretation:\n",
    "?--> ?"
   ]
  },
  {
   "cell_type": "markdown",
   "metadata": {},
   "source": [
    "# Exercice 6"
   ]
  },
  {
   "cell_type": "markdown",
   "metadata": {},
   "source": [
    "* Objectif: Ajouter une fonction de croissance pour les entre-noeuds et les feuilles\n",
    "\n",
    "    * Reprendre l'exercice précédent en faisant varier la taille des organes est fonction de leur âge \n",
    "    * Utiliser une fonction sigmoidale du type :\n",
    "            L/Lmax = 1/(1+exp(-alpha*(t-delai)))\n",
    "\n",
    "Tip:\n",
    "```\n",
    "Reprendre sur la base de l'exericie 5.\n",
    "Données :          \n",
    "    n = 200\n",
    "    Lfeuille = 0.9\n",
    "    Lpetiole = 0.9\n",
    "    Len = 1\n",
    "    Dtige = 0.07\n",
    "    Phyllochron = 20\n",
    "    a = 0.05\n",
    "    delaiF = 50\n",
    "    delaiE = 0\n",
    "```               \n",
    "\n",
    "* Test à réaliser : Inverser les valeurs de DelaiF et DelaiE et oberver l'effet sur la morphogenèse\n",
    "\n"
   ]
  },
  {
   "cell_type": "code",
   "execution_count": null,
   "metadata": {},
   "outputs": [],
   "source": [
    "%%lpy -a True   \n",
    "\n",
    "from math import exp\n",
    "\n",
    "Lfeuille = 0.9\n",
    "Leptiole = 0.9\n",
    "Len = 1\n",
    "Dtige = 0.07\n",
    "Phyllochron = 20\n",
    "a = 0.05\n",
    "delaiF = 50\n",
    "delaiE = 0\n",
    "\n",
    "\n",
    "def expansion(t, a, delai):\n",
    "    \"croissance sigmoidale\"\n",
    "    return 1/(1+exp(-a*(t-delai)))\n",
    "\n",
    "\n",
    "\n",
    "module A\n",
    "module En\n",
    "module Pet\n",
    "module Leaf\n",
    "\n",
    "axiom: ?\n",
    "\n",
    "derivation length: ?\n",
    "\n",
    "production:\n",
    "? --> ?\n",
    "\n",
    "interpretation:\n",
    "?--> ?"
   ]
  },
  {
   "cell_type": "markdown",
   "metadata": {},
   "source": [
    "# Exercice 7"
   ]
  },
  {
   "cell_type": "markdown",
   "metadata": {},
   "source": [
    "* Objectif : Ajouter des bourgeons axillaires produisant des ramifications à tous les phytomères de l'axe primaire\n",
    "    * Reprendre l'exercice précédent mais ajouter les ramifications d'ordre 2 (seulement ordre 2)\n",
    "    * Avec délai de débourrement (2 phyllochrones)\n",
    "    * Ramification avec angle de 45° (alternativement à droite et à gauche de l'axe principal)\n",
    "\n",
    "Tip:\n",
    "```\n",
    "Reprendre sur la base de l'exericie 6.\n",
    "Données :          \n",
    "    n = 200\n",
    "    Lfeuille = 0.9\n",
    "    Lpetiole = 0.9\n",
    "    Len = 1\n",
    "    Dtige = 0.07\n",
    "    Phyllochron = 20\n",
    "    a = 0.05\n",
    "    delaiF = 50\n",
    "    delaiE = 0\n",
    "    delai_ram = 2\n",
    "```               \n",
    "\n"
   ]
  },
  {
   "cell_type": "code",
   "execution_count": null,
   "metadata": {},
   "outputs": [],
   "source": [
    "%%lpy -a True   \n",
    "\n",
    "from math import exp\n",
    "\n",
    "Lfeuille = 0.9\n",
    "Leptiole = 0.9\n",
    "Len = 1\n",
    "Dtige = 0.07\n",
    "Phyllochron = 20\n",
    "a = 0.05\n",
    "delaiF = 50\n",
    "delaiE = 0\n",
    "delai_ram = 2\n",
    "\n",
    "\n",
    "def expansion(t, a, delai):\n",
    "    \"croissance sigmoidale\"\n",
    "    return 1/(1+exp(-a*(t-delai)))\n",
    "\n",
    "\n",
    "\n",
    "module A\n",
    "module En\n",
    "module Pet\n",
    "module Leaf\n",
    "\n",
    "axiom: ?\n",
    "\n",
    "derivation length: ?\n",
    "\n",
    "production:\n",
    "? --> ?\n",
    "\n",
    "interpretation:\n",
    "?--> ?"
   ]
  },
  {
   "cell_type": "markdown",
   "metadata": {},
   "source": [
    "# Exercice 8"
   ]
  },
  {
   "cell_type": "markdown",
   "metadata": {},
   "source": [
    "* Objectif: Ajout d'une probabilité de débourrement des axes secondaires (modèle stochastique de ramification)\n",
    "    * Reprendre l'exercice précédent mais faire dépendre le débourrement des axes d'une probabilité \n",
    "    * Utiliser le module python random pour les tirages aléatoires\n",
    "    * Ramification avec angle de 45° (toutes à droite pour faciliter l'identification des manquantes)\n",
    "\n",
    "Tip:\n",
    "```\n",
    "Reprendre sur la base de l'exericie 7.\n",
    "Données :          \n",
    "    n = 200\n",
    "    Lfeuille = 0.9\n",
    "    Lpetiole = 0.9\n",
    "    Len = 1\n",
    "    Dtige = 0.07\n",
    "    Phyllochron = 20\n",
    "    a = 0.05\n",
    "    delaiF = 50\n",
    "    delaiE = 0\n",
    "    delai_ram = 2\n",
    "    Proba_deb = 0.75\n",
    "```   \n",
    "\n",
    "\n"
   ]
  },
  {
   "cell_type": "code",
   "execution_count": null,
   "metadata": {},
   "outputs": [],
   "source": []
  },
  {
   "cell_type": "markdown",
   "metadata": {},
   "source": [
    "# Exercice 9"
   ]
  },
  {
   "cell_type": "markdown",
   "metadata": {},
   "source": [
    "* Objectif: Ajouter une dépendance du développement au microclimat lumineux (modèle mécaniste de ramification)\n",
    "    * faire dépendre l'initiation de nouveaux phytomères du PAR intercepté par les apex\n",
    "    * réaliser pour celà un couplage avec le modèle Caribu (calculs dans la fonction EndEach)\n",
    "    * placer une ombrière au dessus d'une partie de la plante\n",
    "\n",
    "Tip:\n",
    "```\n",
    "Reprendre sur la base de l'exericie 7.\n",
    "Données :          \n",
    "    n = 200\n",
    "    Lfeuille = 0.9\n",
    "    Lpetiole = 0.9\n",
    "    Len = 1\n",
    "    Dtige = 0.07\n",
    "    Phyllochron = 20\n",
    "    a = 0.05\n",
    "    delaiF = 50\n",
    "    delaiE = 0\n",
    "    delai_ram = 2\n",
    "    treshPAR = 0.8\n",
    "```    \n",
    "\n",
    "\n"
   ]
  },
  {
   "cell_type": "code",
   "execution_count": null,
   "metadata": {},
   "outputs": [],
   "source": []
  },
  {
   "cell_type": "markdown",
   "metadata": {},
   "source": [
    "## Correction des exercices\n",
    "* Visualiser le contenu du l-system de la correction et la sortie générée"
   ]
  },
  {
   "cell_type": "code",
   "execution_count": 2,
   "metadata": {},
   "outputs": [
    {
     "name": "stdout",
     "output_type": "stream",
     "text": [
      "Axiom: &(90)A(0)\n",
      "module A,E,n,P,e,t,L,a,B\n",
      "derivation length: 300\n",
      "production:\n",
      "A(age) : \n",
      "\n",
      "    if age >= phyllochron and dotest == True: #branche a +45\n",
      "        produce En(0)[Pet(0)Leaf(0)][+(45)B(-delaiLbud)]A(0)\n",
      "    elif age >= phyllochron and dotest == False: #branche a -45\n",
      "        produce En(0)[Pet(0)Leaf(0)][-(45)B(-delaiLbud)]A(0)\n",
      "    else:\n",
      "      produce A(age+1)\n",
      "\n",
      "En(age) : \n",
      " -->  En(age+1)\n",
      "\n",
      "Pet(age) : \n",
      " -->  Pet(age+1)\n",
      "\n",
      "Leaf(age) : \n",
      " -->  Leaf(age+1)\n",
      "\n",
      "B(age) : \n",
      "\n",
      "    if age >= phyllochron:\n",
      "      produce En(0)[Pet(0)Leaf(0)]B(0)\n",
      "    else:\n",
      "      produce B(age+1)\n",
      "\n",
      "interpretation:\n",
      "maximum depth:1\n",
      "En(age) : \n",
      " -->  SetColor(2)F(Len*expansion(age, a, delaiE),Dtige)\n",
      "\n",
      "A(age) : \n",
      " -->  SetColor(3)Sphere(1.3*Dtige)\n",
      "\n",
      "Pet(age) : \n",
      " -->  SetColor(2)^(90)F(Lpetiole*expansion(age, a, delaiF),0.75*Dtige)\n",
      "\n",
      "Leaf(age) : \n",
      "\n",
      "    l = Lfeuille*expansion(age, a, delaiF)\n",
      "    produce SetColor(2)^(90)f(l/2)@o(l/2)\n",
      "\n",
      "B(age) : \n",
      " -->  SetColor(4)Sphere(1.3*Dtige)\n",
      "\n",
      "endlsystem\n"
     ]
    },
    {
     "data": {
      "application/vnd.jupyter.widget-view+json": {
       "model_id": "96d8e463e96d43eba24475a3e0c67b76",
       "version_major": 2,
       "version_minor": 0
      },
      "text/plain": [
       "LsystemWidget(animate=True, derivationLength=301, scene={'data': b'x\\xdaSLrw\\xf5\\xf7e`Pp\\xe0\\xe5RPVVde```be\\x0…"
      ]
     },
     "metadata": {},
     "output_type": "display_data"
    }
   ],
   "source": [
    "# Definir le nom, charger et visualiser le contenu du l-system a simuler \n",
    "\n",
    "nomlsystem = 'Exo 7 - Axis2_br.lpy' # a mettre a jour selon exercice (present dans le repertoire local ou path absolu)\n",
    "#'Exo 1 - dragoncurve.lpy'\n",
    "#'Exo 2 - anabaena0.lpy'\n",
    "#'Exo 3- Axis0.lpy'\n",
    "#'Exo 4 - Axis1.lpy'\n",
    "#'Exo 5 - Axis1_phyllo.lpy'\n",
    "#'Exo 6 - Axis1_exp.lpy'\n",
    "#'Exo 7 - Axis2_br.lpy'\n",
    "#'Exo 8 -Axis2_brproba.lpy'\n",
    "#'Exo 9 - Axis2_ombre_light_caribu.lpy'\n",
    "\n",
    "lsys = Lsystem(nomlsystem) #charge le l-system L-py\n",
    "print(lsys) #visualisation du contenu (texte) du fichier l-system \n",
    "# visualisation LsystemWidget\n",
    "LsystemWidget(nomlsystem, unit='cm',size_world=.4, animate=True)\n",
    "\n",
    "## pour visualisation via la scene generee par lpy dans plantgl = utilise SceneWidget\n",
    "#lstring = lsys.derive()\n",
    "#scene_fin = lsys.sceneInterpretation(lstring)\n",
    "#SceneWidget(scene_fin)\n"
   ]
  },
  {
   "cell_type": "markdown",
   "metadata": {},
   "source": [
    "* 2) Reprendre les texte des exercice (8 et 9 en particulier)  /ajout d'images?"
   ]
  },
  {
   "cell_type": "markdown",
   "metadata": {},
   "source": [
    "* 3) Continuer avec par un 2e TD gerant le C et l'interaction aerien / racinaire (cf exo 10)"
   ]
  }
 ],
 "metadata": {
  "kernelspec": {
   "display_name": "Python 3 (ipykernel)",
   "language": "python",
   "name": "python3"
  },
  "language_info": {
   "codemirror_mode": {
    "name": "ipython",
    "version": 3
   },
   "file_extension": ".py",
   "mimetype": "text/x-python",
   "name": "python",
   "nbconvert_exporter": "python",
   "pygments_lexer": "ipython3",
   "version": "3.9.7"
  }
 },
 "nbformat": 4,
 "nbformat_minor": 4
}
